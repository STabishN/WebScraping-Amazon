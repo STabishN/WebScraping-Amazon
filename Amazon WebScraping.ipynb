{
 "cells": [
  {
   "cell_type": "code",
   "execution_count": 1,
   "metadata": {},
   "outputs": [],
   "source": [
    "# import libraries \n",
    "\n",
    "from bs4 import BeautifulSoup\n",
    "import requests\n",
    "import time\n",
    "import datetime\n",
    "\n",
    "import smtplib"
   ]
  },
  {
   "cell_type": "code",
   "execution_count": 5,
   "metadata": {},
   "outputs": [
    {
     "name": "stdout",
     "output_type": "stream",
     "text": [
      "\n",
      "            Swiss Miss Hot Cocoa Single-Serve K-Cup®, 0.65 Oz, Box of 22\n",
      "           \n",
      "\n",
      "                        SAR128.24\n",
      "                       \n"
     ]
    }
   ],
   "source": [
    "# Website\n",
    "\n",
    "URL = 'https://www.amazon.sa/-/en/Swiss-Miss-Cocoa-Single-Serve-K-Cup%C2%AE/dp/B09PWGJJCH/ref=sr_1_1?crid=4TYDJW93I5JK&keywords=swiss+miss&qid=1647244372&sprefix=swiss+mis%2Caps%2C174&sr=8-1'\n",
    "\n",
    "headers = {\"User-Agent\": 'Mozilla/5.0 (Windows NT 10.0; Win64; x64) AppleWebKit/537.36 (KHTML, like Gecko) Chrome/99.0.4844.51 Safari/537.36'}\n",
    "\n",
    "page = requests.get(URL, headers=headers)\n",
    "\n",
    "soup1 = BeautifulSoup(page.content, \"html.parser\")\n",
    "\n",
    "soup2 = BeautifulSoup(soup1.prettify(), \"html.parser\")\n",
    "\n",
    "title = soup2.find(id='productTitle').get_text()\n",
    "\n",
    "price = soup2.find(\"span\", {\"class\": 'a-offscreen'}).get_text()\n",
    "\n",
    "print (title)\n",
    "print (price)\n"
   ]
  },
  {
   "cell_type": "code",
   "execution_count": 6,
   "metadata": {
    "scrolled": true
   },
   "outputs": [
    {
     "name": "stdout",
     "output_type": "stream",
     "text": [
      "Swiss Miss Hot Cocoa Single-Serve K-Cup®, 0.65 Oz, Box of 22\n",
      "128.24\n"
     ]
    }
   ],
   "source": [
    "# Clean up the data a little bit\n",
    "\n",
    "price = price.strip()[3:]\n",
    "title = title.strip()\n",
    "\n",
    "print(title)\n",
    "print(price)"
   ]
  },
  {
   "cell_type": "code",
   "execution_count": 7,
   "metadata": {},
   "outputs": [
    {
     "name": "stdout",
     "output_type": "stream",
     "text": [
      "2022-03-14\n"
     ]
    }
   ],
   "source": [
    "# Create a Timestamp for your output to track when data was collected\n",
    "\n",
    "import datetime\n",
    "\n",
    "today = datetime.date.today()\n",
    "\n",
    "print(today)"
   ]
  },
  {
   "cell_type": "code",
   "execution_count": 8,
   "metadata": {},
   "outputs": [],
   "source": [
    "# Create CSV and write headers and data into the file\n",
    "\n",
    "import csv \n",
    "\n",
    "header = ['Title', 'Price', 'Date']\n",
    "data = [title, price, today]\n",
    "\n",
    "\n",
    "with open('AmazonWebScraperDataset.csv', 'w', newline='', encoding='UTF8') as f:\n",
    "    writer = csv.writer(f)\n",
    "    writer.writerow(header)\n",
    "    writer.writerow(data)"
   ]
  },
  {
   "cell_type": "code",
   "execution_count": 9,
   "metadata": {},
   "outputs": [
    {
     "name": "stdout",
     "output_type": "stream",
     "text": [
      "   Title  Price  Date\n",
      "0    NaN    NaN   NaN\n",
      "1    NaN    NaN   NaN\n"
     ]
    }
   ],
   "source": [
    "import pandas as pd\n",
    "\n",
    "df = pd.read_csv(r'C:\\Users\\legen\\Desktop\\RESUME\\Resume Projects\\Portfolio\\Amazon Web-scraping\\AmazonWebScraperDataset.csv')\n",
    "\n",
    "print(df)"
   ]
  },
  {
   "cell_type": "code",
   "execution_count": 10,
   "metadata": {},
   "outputs": [],
   "source": [
    "#Now we are appending data to the csv\n",
    "\n",
    "with open('AmazonWebScraperDataset.csv', 'a+', newline='', encoding='UTF8') as f:\n",
    "    writer = csv.writer(f)\n",
    "    writer.writerow(data)"
   ]
  },
  {
   "cell_type": "markdown",
   "metadata": {},
   "source": [
    "## All in one block"
   ]
  },
  {
   "cell_type": "code",
   "execution_count": 18,
   "metadata": {},
   "outputs": [],
   "source": [
    "def check_price():\n",
    "\n",
    "    URL = 'https://www.amazon.sa/-/en/Swiss-Miss-Cocoa-Single-Serve-K-Cup%C2%AE/dp/B09PWGJJCH/ref=sr_1_1?crid=4TYDJW93I5JK&keywords=swiss+miss&qid=1647244372&sprefix=swiss+mis%2Caps%2C174&sr=8-1'\n",
    "\n",
    "    headers = {\"User-Agent\": 'Mozilla/5.0 (Windows NT 10.0; Win64; x64) AppleWebKit/537.36 (KHTML, like Gecko) Chrome/99.0.4844.51 Safari/537.36'}\n",
    "\n",
    "    page = requests.get(URL, headers=headers)\n",
    "\n",
    "    soup1 = BeautifulSoup(page.content, \"html.parser\")\n",
    "\n",
    "    soup2 = BeautifulSoup(soup1.prettify(), \"html.parser\")\n",
    "\n",
    "    title = soup2.find(id='productTitle').get_text()\n",
    "\n",
    "    price = soup2.find(\"span\", {\"class\": 'a-offscreen'}).get_text()\n",
    "\n",
    "    # Clean up the data a little bit\n",
    "\n",
    "    price = price.strip()[3:]\n",
    "    title = title.strip()\n",
    "\n",
    "    print(title)\n",
    "    print(price)\n",
    "\n",
    "    # Create a Timestamp for your output to track when data was collected\n",
    "\n",
    "    import datetime\n",
    "\n",
    "    today = datetime.date.today()\n",
    "\n",
    "    # Create CSV and write headers and data into the file\n",
    "\n",
    "    import csv \n",
    "\n",
    "    header = ['Title', 'Price', 'Date']\n",
    "    data = [title, price, today]\n",
    "\n",
    "\n",
    "#     with open('AmazonWebScraperDataset.csv', 'w', newline='', encoding='UTF8') as f:\n",
    "#         writer = csv.writer(f)\n",
    "#         writer.writerow(header)\n",
    "#         writer.writerow(data)\n",
    "\n",
    "    #Now we are appending data to the csv\n",
    "\n",
    "    with open('AmazonWebScraperDataset.csv', 'a+', newline='', encoding='UTF8') as f:\n",
    "        writer = csv.writer(f)\n",
    "        writer.writerow(data)"
   ]
  },
  {
   "cell_type": "code",
   "execution_count": null,
   "metadata": {},
   "outputs": [
    {
     "name": "stdout",
     "output_type": "stream",
     "text": [
      "Swiss Miss Hot Cocoa Single-Serve K-Cup®, 0.65 Oz, Box of 22\n",
      "128.24\n"
     ]
    }
   ],
   "source": [
    "while(True):\n",
    "    check_price()\n",
    "    time.sleep(86400)"
   ]
  },
  {
   "cell_type": "code",
   "execution_count": null,
   "metadata": {},
   "outputs": [],
   "source": [
    "import pandas as pd\n",
    "\n",
    "    df = pd.read_csv(r'C:\\Users\\legen\\Desktop\\RESUME\\Resume Projects\\Portfolio\\Amazon Web-scraping\\AmazonWebScraperDataset.csv')\n",
    "\n",
    "    print(df)"
   ]
  },
  {
   "cell_type": "code",
   "execution_count": null,
   "metadata": {},
   "outputs": [],
   "source": []
  }
 ],
 "metadata": {
  "kernelspec": {
   "display_name": "Python 3 (ipykernel)",
   "language": "python",
   "name": "python3"
  },
  "language_info": {
   "codemirror_mode": {
    "name": "ipython",
    "version": 3
   },
   "file_extension": ".py",
   "mimetype": "text/x-python",
   "name": "python",
   "nbconvert_exporter": "python",
   "pygments_lexer": "ipython3",
   "version": "3.8.5"
  }
 },
 "nbformat": 4,
 "nbformat_minor": 4
}
